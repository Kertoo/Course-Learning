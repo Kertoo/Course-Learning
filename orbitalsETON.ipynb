{
 "cells": [
  {
   "cell_type": "markdown",
   "id": "be0a3215",
   "metadata": {},
   "source": [
    "# Continued fraction expansion\n",
    "This code gives the continued fraction expansion of any number. I.e for $x\\in\\mathbb{R}$ of the form\n",
    "$$x = a_{0} + \\frac{1}{a_{1}+\\frac{1}{a_{2}+\\frac{1}{a_{3}+\\dots}}}$$\n",
    "it gives the $[a_{0},a_{1},a_{2},\\dots, a_{n}]$"
   ]
  },
  {
   "cell_type": "code",
   "execution_count": null,
   "id": "344fd1f7",
   "metadata": {},
   "outputs": [],
   "source": [
    "function cfexp(x, n::Int64, trace::Bool = false)\n",
    "    A = Vector{Int}(undef, n + 1)\n",
    "    m = 1\n",
    "    a = floor(x)\n",
    "    A[1] = a\n",
    "    \n",
    "    while m < n + 1\n",
    "        a = (x != 0 ? floor(1 / x) : 0)\n",
    "        x = (x == .0 ? .0 : (1 / x - floor(1 / x)))\n",
    "        trace ? println(x) :\n",
    "        m += 1\n",
    "        A[m] = a ## In julia indexing begins with 1\n",
    "    end\n",
    "\n",
    "    return transpose(A)\n",
    "end"
   ]
  },
  {
   "cell_type": "markdown",
   "id": "1181ef53",
   "metadata": {},
   "source": [
    "This function basically checks if the result of the first is what it should be."
   ]
  },
  {
   "cell_type": "code",
   "execution_count": null,
   "id": "5e63414c",
   "metadata": {},
   "outputs": [],
   "source": [
    "function check(z)\n",
    "    s = 0\n",
    "    a = length(z)\n",
    "\n",
    "    while a > 1\n",
    "        s += z[a]\n",
    "        s = (s == 0 ? 0 : 1 / s)\n",
    "        a -= 1\n",
    "    end\n",
    "\n",
    "    return(s)\n",
    "end"
   ]
  },
  {
   "cell_type": "markdown",
   "id": "c7cbdc0b",
   "metadata": {},
   "source": [
    "Notice this function for any $x\\in\\mathbb{Q}$ the continued fraction expansion is not unique but this function only returns one\n",
    "vector."
   ]
  },
  {
   "cell_type": "markdown",
   "id": "664bdf70",
   "metadata": {},
   "source": [
    "Continued fraction expansion for $\\frac{1}{2}$ first 3 digits"
   ]
  },
  {
   "cell_type": "code",
   "execution_count": null,
   "id": "f9fb655d",
   "metadata": {
    "scrolled": true
   },
   "outputs": [],
   "source": [
    "z = cfexp(.5, 3)\n",
    "println(z)"
   ]
  },
  {
   "cell_type": "code",
   "execution_count": null,
   "id": "f76346a5",
   "metadata": {},
   "outputs": [],
   "source": [
    "check(z) - 1 / 2"
   ]
  },
  {
   "cell_type": "markdown",
   "id": "a2a2c989",
   "metadata": {},
   "source": [
    "For $\\pi$, julia has an incredible precision so this should be should be somewhat accurate (first 1000 digits)"
   ]
  },
  {
   "cell_type": "code",
   "execution_count": null,
   "id": "cf63ac0b",
   "metadata": {},
   "outputs": [],
   "source": [
    "@time begin\n",
    "    z = cfexp(pi, 1000)\n",
    "    println(z)\n",
    "end"
   ]
  },
  {
   "cell_type": "markdown",
   "id": "f7dbccf5",
   "metadata": {},
   "source": [
    "Quite accurate"
   ]
  },
  {
   "cell_type": "code",
   "execution_count": null,
   "id": "8c2afb94",
   "metadata": {
    "scrolled": false
   },
   "outputs": [],
   "source": [
    "check(z) - pi"
   ]
  },
  {
   "cell_type": "markdown",
   "id": "92433e59",
   "metadata": {},
   "source": [
    "First 100000 digits (they'll be printed as the last chunk of the notebook):"
   ]
  },
  {
   "cell_type": "markdown",
   "id": "0bd3d9e8",
   "metadata": {},
   "source": [
    "For $\\sqrt{2}$, first 1000 digits:"
   ]
  },
  {
   "cell_type": "code",
   "execution_count": null,
   "id": "eca87b4a",
   "metadata": {},
   "outputs": [],
   "source": [
    "@time begin\n",
    "    z = cfexp(sqrt(2), 1000)\n",
    "    println(z)\n",
    "end"
   ]
  },
  {
   "cell_type": "code",
   "execution_count": null,
   "id": "b2f85baa",
   "metadata": {},
   "outputs": [],
   "source": [
    "check(z) - sqrt(2)"
   ]
  },
  {
   "cell_type": "markdown",
   "id": "63223269",
   "metadata": {},
   "source": [
    "For $e$, first 1000 digits:"
   ]
  },
  {
   "cell_type": "code",
   "execution_count": null,
   "id": "474756de",
   "metadata": {},
   "outputs": [],
   "source": [
    "@time begin\n",
    "    z = cfexp(MathConstants.e, 1000)\n",
    "    println(z)\n",
    "end"
   ]
  },
  {
   "cell_type": "code",
   "execution_count": null,
   "id": "9bfefc0f",
   "metadata": {},
   "outputs": [],
   "source": [
    "check(z) - MathConstants.e"
   ]
  },
  {
   "cell_type": "markdown",
   "id": "8f769cc6",
   "metadata": {},
   "source": [
    "For $\\varphi=\\frac{1+\\sqrt{5}}{2}$:"
   ]
  },
  {
   "cell_type": "code",
   "execution_count": null,
   "id": "36aa119c",
   "metadata": {},
   "outputs": [],
   "source": [
    "@time begin\n",
    "    z = cfexp(MathConstants.golden, 1000)\n",
    "    println(z)\n",
    "end"
   ]
  },
  {
   "cell_type": "code",
   "execution_count": null,
   "id": "98e17ab0",
   "metadata": {},
   "outputs": [],
   "source": [
    "check(z) - MathConstants.golden"
   ]
  }
 ],
 "metadata": {
  "kernelspec": {
   "display_name": "Julia 1.7.2",
   "language": "julia",
   "name": "julia-1.7"
  },
  "language_info": {
   "file_extension": ".jl",
   "mimetype": "application/julia",
   "name": "julia",
   "version": "1.7.2"
  }
 },
 "nbformat": 4,
 "nbformat_minor": 5
}
